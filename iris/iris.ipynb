{
 "cells": [
  {
   "cell_type": "markdown",
   "id": "b2eb2553-4da3-4c51-92d5-7002f604316a",
   "metadata": {},
   "source": [
    "# Test of pytorch with iris dataset"
   ]
  },
  {
   "cell_type": "code",
   "execution_count": 16,
   "id": "d9864226-2dd8-40f3-ab8c-20d37a1bc3c9",
   "metadata": {},
   "outputs": [],
   "source": [
    "import torch\n",
    "import numpy as np\n",
    "import matplotlib.pyplot as plt\n",
    "import seaborn as sns\n",
    "import sklearn.datasets as datasets\n",
    "import pandas as pd\n",
    "from matplotlib.animation import FuncAnimation\n",
    "import pandas as pd\n",
    "%matplotlib inline\n",
    "\n",
    "sns.set_style(style = 'whitegrid')\n",
    "plt.rcParams[\"patch.force_edgecolor\"] = True"
   ]
  },
  {
   "cell_type": "code",
   "execution_count": 2,
   "id": "bd808763-542e-4c1c-bb33-234a4bb744e2",
   "metadata": {},
   "outputs": [
    {
     "data": {
      "text/plain": [
       "True"
      ]
     },
     "execution_count": 2,
     "metadata": {},
     "output_type": "execute_result"
    }
   ],
   "source": [
    "import torch\n",
    "torch.cuda.is_available()"
   ]
  },
  {
   "cell_type": "code",
   "execution_count": 3,
   "id": "24603bdd-3fe0-4780-a9fa-21eb084d316d",
   "metadata": {},
   "outputs": [],
   "source": [
    "if torch.cuda.is_available(): \n",
    " dev = \"cuda:0\" \n",
    "else: \n",
    " dev = \"cpu\" \n",
    "device = torch.device(\"cpu\")"
   ]
  },
  {
   "cell_type": "code",
   "execution_count": 4,
   "id": "e9303e68-6005-4ffa-b67e-ff10a660fac1",
   "metadata": {},
   "outputs": [],
   "source": [
    "torch.set_default_dtype(torch.float64)\n",
    "torch.set_default_device(device)"
   ]
  },
  {
   "cell_type": "markdown",
   "id": "2cf016b7-e945-44c3-970c-0c068e6056da",
   "metadata": {},
   "source": [
    "# Tensors\n",
    "## Vectors\n"
   ]
  },
  {
   "cell_type": "code",
   "execution_count": 5,
   "id": "95e4f807-5af5-43d6-96a1-463de2ab7b34",
   "metadata": {},
   "outputs": [
    {
     "name": "stdout",
     "output_type": "stream",
     "text": [
      "tensor([ 12.,  43.,  25.,   1., 532.,  25.,   3.,   5.,  12.,   4.,  24.,  32.,\n",
      "         41.], dtype=torch.float32)\n"
     ]
    }
   ],
   "source": [
    "x = torch.FloatTensor([12,43,25,1,532,25,3,5,12,4,24,32,41])\n",
    "print(x)"
   ]
  },
  {
   "cell_type": "code",
   "execution_count": 6,
   "id": "e3bd25f4-66be-4f43-a789-b25c0a1b187e",
   "metadata": {},
   "outputs": [
    {
     "data": {
      "text/plain": [
       "torch.Size([13])"
      ]
     },
     "execution_count": 6,
     "metadata": {},
     "output_type": "execute_result"
    }
   ],
   "source": [
    "x.size()"
   ]
  },
  {
   "cell_type": "markdown",
   "id": "ffefd8f6-d768-4a81-ae61-8fe0fc8d8986",
   "metadata": {},
   "source": [
    "## Matrix"
   ]
  },
  {
   "cell_type": "code",
   "execution_count": 7,
   "id": "e8af4997-4da5-4483-9ea1-fc26cb0ea11b",
   "metadata": {},
   "outputs": [
    {
     "name": "stderr",
     "output_type": "stream",
     "text": [
      "C:\\Users\\yash\\anaconda3\\lib\\site-packages\\sklearn\\utils\\deprecation.py:87: FutureWarning: Function load_boston is deprecated; `load_boston` is deprecated in 1.0 and will be removed in 1.2.\n",
      "\n",
      "    The Boston housing prices dataset has an ethical problem. You can refer to\n",
      "    the documentation of this function for further details.\n",
      "\n",
      "    The scikit-learn maintainers therefore strongly discourage the use of this\n",
      "    dataset unless the purpose of the code is to study and educate about\n",
      "    ethical issues in data science and machine learning.\n",
      "\n",
      "    In this special case, you can fetch the dataset from the original\n",
      "    source::\n",
      "\n",
      "        import pandas as pd\n",
      "        import numpy as np\n",
      "\n",
      "\n",
      "        data_url = \"http://lib.stat.cmu.edu/datasets/boston\"\n",
      "        raw_df = pd.read_csv(data_url, sep=\"\\s+\", skiprows=22, header=None)\n",
      "        data = np.hstack([raw_df.values[::2, :], raw_df.values[1::2, :2]])\n",
      "        target = raw_df.values[1::2, 2]\n",
      "\n",
      "    Alternative datasets include the California housing dataset (i.e.\n",
      "    :func:`~sklearn.datasets.fetch_california_housing`) and the Ames housing\n",
      "    dataset. You can load the datasets as follows::\n",
      "\n",
      "        from sklearn.datasets import fetch_california_housing\n",
      "        housing = fetch_california_housing()\n",
      "\n",
      "    for the California housing dataset and::\n",
      "\n",
      "        from sklearn.datasets import fetch_openml\n",
      "        housing = fetch_openml(name=\"house_prices\", as_frame=True)\n",
      "\n",
      "    for the Ames housing dataset.\n",
      "    \n",
      "  warnings.warn(msg, category=FutureWarning)\n"
     ]
    }
   ],
   "source": [
    "boston = datasets.load_boston()"
   ]
  },
  {
   "cell_type": "code",
   "execution_count": 8,
   "id": "fbbb999f-bbe9-4649-a687-4034554bff41",
   "metadata": {},
   "outputs": [],
   "source": [
    "data = torch.from_numpy(boston.data).to(device)\n",
    "target = torch.from_numpy(boston.target).to(device)"
   ]
  },
  {
   "cell_type": "code",
   "execution_count": 9,
   "id": "b594fab3-bce1-46fd-a89a-65c71be0d8d9",
   "metadata": {},
   "outputs": [
    {
     "data": {
      "text/plain": [
       "torch.Size([506, 13])"
      ]
     },
     "execution_count": 9,
     "metadata": {},
     "output_type": "execute_result"
    }
   ],
   "source": [
    "data.size()"
   ]
  },
  {
   "cell_type": "markdown",
   "id": "4a4585da-5191-4c92-9775-6cad2a3632f4",
   "metadata": {},
   "source": [
    "# Creating a basic NN"
   ]
  },
  {
   "cell_type": "code",
   "execution_count": 10,
   "id": "9ad4b73e-162f-4d83-963c-7b19ab105c51",
   "metadata": {},
   "outputs": [],
   "source": [
    "df = pd.DataFrame(boston.data,columns=boston.feature_names)"
   ]
  },
  {
   "cell_type": "code",
   "execution_count": 11,
   "id": "a7bc1f00-f4ae-4365-a849-e16f39cd5cce",
   "metadata": {},
   "outputs": [],
   "source": [
    "import torch\n",
    "import torch.nn as nn\n",
    "from tqdm import tqdm"
   ]
  },
  {
   "cell_type": "code",
   "execution_count": 12,
   "id": "9a5f088c-7b9f-4cd2-9c08-216e1374b90f",
   "metadata": {},
   "outputs": [],
   "source": [
    "n_in = 13\n",
    "n_h =5\n",
    "n_out  = 1\n",
    "batch_size = 32"
   ]
  },
  {
   "cell_type": "markdown",
   "id": "366eeec9-35a1-4a04-af6d-eaf248734e44",
   "metadata": {},
   "source": [
    "## Creating the model"
   ]
  },
  {
   "cell_type": "code",
   "execution_count": 13,
   "id": "be3df0dd-3b47-4f19-ab90-9d2b93e665ba",
   "metadata": {},
   "outputs": [],
   "source": [
    "model = nn.Sequential(nn.Linear(n_in,n_h),\n",
    "                      nn.ReLU(),\n",
    "                      nn.Linear(n_h,n_h*4),\n",
    "                      nn.ReLU(),\n",
    "                      nn.Linear(n_h*4,n_h*2),\n",
    "                      nn.ReLU(),\n",
    "                      nn.Linear(n_h*2,n_h),\n",
    "                      nn.ReLU(),\n",
    "                      nn.Linear(n_h,n_h),\n",
    "                      nn.ReLU(),\n",
    "                      nn.Linear(n_h,n_out),\n",
    "                      nn.Sigmoid())"
   ]
  },
  {
   "cell_type": "code",
   "execution_count": 14,
   "id": "c483d950-232b-413a-8842-763a9fd31af2",
   "metadata": {},
   "outputs": [],
   "source": [
    "lossfn = nn.MSELoss()\n",
    "\n",
    "optimiser = torch.optim.SGD(model.parameters() , lr = 0.001)"
   ]
  },
  {
   "cell_type": "code",
   "execution_count": 15,
   "id": "6bc55c10-ba2f-4fe3-8d0f-03c021e9086c",
   "metadata": {},
   "outputs": [
    {
     "name": "stderr",
     "output_type": "stream",
     "text": [
      "  0%|                                                                                         | 0/5000 [00:00<?, ?it/s]C:\\Users\\yash\\anaconda3\\lib\\site-packages\\torch\\utils\\_device.py:62: UserWarning: Using a target size (torch.Size([506])) that is different to the input size (torch.Size([506, 1])). This will likely lead to incorrect results due to broadcasting. Please ensure they have the same size.\n",
      "  return func(*args, **kwargs)\n",
      "100%|█████████████████████████████████████████████████████████████████████████████| 5000/5000 [00:30<00:00, 162.17it/s]"
     ]
    },
    {
     "name": "stdout",
     "output_type": "stream",
     "text": [
      "time.time()-start = 30.83999729156494\n"
     ]
    },
    {
     "name": "stderr",
     "output_type": "stream",
     "text": [
      "\n"
     ]
    }
   ],
   "source": [
    "import time\n",
    "\n",
    "start = time.time()\n",
    "epochs = 5000\n",
    "for epoch in tqdm(range(epochs)):\n",
    "    y_pred = model(data)\n",
    "    loss = lossfn(y_pred ,target)\n",
    "    # print(f\"{epoch = } , {loss.item() = }  \",end=\"\\r\")\n",
    "    optimiser.zero_grad()\n",
    "    \n",
    "    loss.backward()\n",
    "    \n",
    "    optimiser.step()\n",
    "\n",
    "print(f\"{time.time()-start = }\")"
   ]
  },
  {
   "cell_type": "markdown",
   "id": "d42cf90f-e4ab-4d1b-ae73-ee262e508528",
   "metadata": {},
   "source": [
    "\n",
    "   above training could be considered random almost but lets try again using the new  techniques"
   ]
  },
  {
   "cell_type": "markdown",
   "id": "1901e047-2c32-4a43-81c1-ae13acc54fff",
   "metadata": {},
   "source": [
    "## Creating a functional NN"
   ]
  },
  {
   "cell_type": "code",
   "execution_count": 18,
   "id": "aa8e8364-3d59-4b5f-8292-9285373e6763",
   "metadata": {},
   "outputs": [
    {
     "data": {
      "text/plain": [
       "<seaborn.axisgrid.FacetGrid at 0x20e9bc9ba30>"
      ]
     },
     "execution_count": 18,
     "metadata": {},
     "output_type": "execute_result"
    },
    {
     "data": {
      "image/png": "[encoded data removed]",
      "text/plain": [
       "<Figure size 500x500 with 1 Axes>"
      ]
     },
     "metadata": {},
     "output_type": "display_data"
    }
   ],
   "source": [
    "m = 2 # slope\n",
    "c = 3 # intercept\n",
    "x = np.random.rand(256)\n",
    "\n",
    "noise = np.random.randn(256) / 4\n",
    "\n",
    "y = x * m + c + noise\n",
    "\n",
    "df = pd.DataFrame()\n",
    "df['x'] = x\n",
    "df['y'] = y\n",
    "\n",
    "sns.lmplot(x ='x', y ='y', data = df)"
   ]
  },
  {
   "cell_type": "code",
   "execution_count": 20,
   "id": "e3e9c9aa-d145-4fb8-a4bd-19147fabb5c6",
   "metadata": {},
   "outputs": [],
   "source": [
    "import torch\n",
    "from torch import nn\n",
    "from torch.autograd import Variable"
   ]
  },
  {
   "cell_type": "code",
   "execution_count": 21,
   "id": "785e4aeb-6610-48dc-87ff-181237ee53b5",
   "metadata": {},
   "outputs": [],
   "source": [
    "x_train = x.reshape(-1, 1).astype('float64')\n",
    "y_train = y.reshape(-1, 1).astype('float64')"
   ]
  },
  {
   "cell_type": "code",
   "execution_count": 23,
   "id": "80e60a87-e498-4b33-9695-a2aea52eb487",
   "metadata": {},
   "outputs": [],
   "source": [
    "class LeniearRegressor(nn.Module):\n",
    "    def __init__(self,inputDim,outputDim):\n",
    "        super(LeniearRegressor,self).__init__()\n",
    "        self.leniear = nn.Linear(inputDim,outputDim)\n",
    "        \n",
    "    def forward(self,x):\n",
    "        out = self.leniear(x)\n",
    "        return out\n",
    "    \n"
   ]
  },
  {
   "cell_type": "code",
   "execution_count": 25,
   "id": "a4aeece0-7a62-4968-bd73-751cda272082",
   "metadata": {},
   "outputs": [],
   "source": [
    "input_dim = x_train.shape[1]\n",
    "output_dim = y_train.shape[1]\n"
   ]
  },
  {
   "cell_type": "code",
   "execution_count": 27,
   "id": "a108e140-9034-49aa-82ba-30af2c0ab129",
   "metadata": {},
   "outputs": [],
   "source": [
    "model = LeniearRegressor(input_dim,output_dim)\n",
    "criterion = nn.MSELoss()"
   ]
  },
  {
   "cell_type": "code",
   "execution_count": 28,
   "id": "247265e3-e730-4d4d-a019-582d7709a7d0",
   "metadata": {},
   "outputs": [],
   "source": [
    "[w,b] = model.parameters()"
   ]
  },
  {
   "cell_type": "code",
   "execution_count": 30,
   "id": "9bca573c-a4c0-465e-9139-6cbd2441842c",
   "metadata": {},
   "outputs": [],
   "source": [
    "def getParamVals():\n",
    "    return w.data[0][0],b.data[0]"
   ]
  },
  {
   "cell_type": "code",
   "execution_count": 39,
   "id": "28202930-f786-41ca-8978-a3641fac2e42",
   "metadata": {},
   "outputs": [],
   "source": [
    "\n",
    "def plot_current_fit(title = \"\"):\n",
    "    plt.figure(figsize = (12,4))\n",
    "    plt.title(title)\n",
    "    plt.scatter(x, y, s = 8)\n",
    "    w1 = w.data[0][0]\n",
    "    b1 = b.data[0]\n",
    "    x1 = np.array([0., 1.])\n",
    "    y1 = torch.from_numpy( x1) * w1 + b1\n",
    "    plt.plot(x1, y1, 'r', label = 'Current Fit ({:.3f}, {:.3f})'.format(w1, b1))\n",
    "    plt.xlabel('x (input)')\n",
    "    plt.ylabel('y (target)')\n",
    "    plt.legend()\n",
    "    plt.show()\n"
   ]
  },
  {
   "cell_type": "code",
   "execution_count": 40,
   "id": "5a500798-1623-4fcb-bc76-173c585eb930",
   "metadata": {},
   "outputs": [
    {
     "data": {
      "image/png": "[encoded data removed]",
      "text/plain": [
       "<Figure size 1200x400 with 1 Axes>"
      ]
     },
     "metadata": {},
     "output_type": "display_data"
    }
   ],
   "source": [
    "    plot_current_fit('Before training')"
   ]
  },
  {
   "cell_type": "code",
   "execution_count": null,
   "id": "4cb13a74-81d5-410a-8541-be0b82a7799a",
   "metadata": {},
   "outputs": [],
   "source": []
  },
  {
   "cell_type": "code",
   "execution_count": null,
   "id": "5069f494-a09c-4a30-9b48-23d80ab2647b",
   "metadata": {},
   "outputs": [],
   "source": []
  },
  {
   "cell_type": "code",
   "execution_count": null,
   "id": "3374b931-2c76-4324-b7bd-ef8d920a47e3",
   "metadata": {},
   "outputs": [],
   "source": []
  },
  {
   "cell_type": "code",
   "execution_count": null,
   "id": "ef92ac8f-cb5d-49a7-aeea-829aec15545c",
   "metadata": {},
   "outputs": [],
   "source": []
  },
  {
   "cell_type": "code",
   "execution_count": null,
   "id": "07df81e8-ea85-42fe-9be9-9c2aae1575b4",
   "metadata": {},
   "outputs": [],
   "source": []
  }
 ],
 "metadata": {
  "kernelspec": {
   "display_name": "Python 3 (ipykernel)",
   "language": "python",
   "name": "python3"
  },
  "language_info": {
   "codemirror_mode": {
    "name": "ipython",
    "version": 3
   },
   "file_extension": ".py",
   "mimetype": "text/x-python",
   "name": "python",
   "nbconvert_exporter": "python",
   "pygments_lexer": "ipython3",
   "version": "3.9.13"
  }
 },
 "nbformat": 4,
 "nbformat_minor": 5
}
